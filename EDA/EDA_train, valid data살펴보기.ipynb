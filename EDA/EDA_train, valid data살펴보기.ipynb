{
 "cells": [
  {
   "cell_type": "markdown",
   "id": "46797e41",
   "metadata": {},
   "source": [
    "# TOC\n",
    "[0. Import and Load data](#0.-Import-and-Load-data)  \n",
    "[1. data 자체에 오류가 없는지 확인](#1.-data-자체에-오류가-없는지-확인)  \n",
    "[2. 중복 data 확인](#2.-중복-data-확인)  \n",
    "[3. 길이 시각화](#3.-길이-시각화)  \n",
    "[4. 토크나이저 거친 이후 그래프 살펴보기 (question)](#4.-토크나이저-거친-이후-그래프-살펴보기-(question))  \n",
    "[5. Query문 살펴보기](#5.-Query문-살펴보기)\n",
    "\n",
    "---"
   ]
  },
  {
   "cell_type": "markdown",
   "id": "c3c21e8e",
   "metadata": {},
   "source": [
    "# 0. Import and Load data"
   ]
  },
  {
   "cell_type": "code",
   "execution_count": 1,
   "id": "768b9571",
   "metadata": {},
   "outputs": [],
   "source": [
    "from datasets import load_from_disk, load_dataset\n",
    "import pandas as pd\n",
    "import numpy as np\n",
    "import matplotlib.pyplot as plt\n",
    "import seaborn as sns\n",
    "from tqdm import tqdm\n",
    "\n",
    "import matplotlib.font_manager as fm\n",
    "\n",
    "import warnings\n",
    "warnings.filterwarnings(action='ignore')"
   ]
  },
  {
   "cell_type": "code",
   "execution_count": 2,
   "id": "72a38348",
   "metadata": {},
   "outputs": [],
   "source": [
    "mrc_datasets = load_from_disk('./data/train_dataset/')\n",
    "mrc_train_dataset = mrc_datasets['train']\n",
    "mrc_valid_dataset = mrc_datasets['validation']"
   ]
  },
  {
   "cell_type": "code",
   "execution_count": 240,
   "id": "cde4d79f",
   "metadata": {},
   "outputs": [
    {
     "data": {
      "text/plain": [
       "{'title': '백조 기사',\n",
       " 'context': '프랑스의 십자군 무훈시는 1099년 예루살렘 왕국의 통치자가 된 고드프루아 드 부용의 전설적인 선조로 백조 기사를 등장시킨다. 고드프루아는 중세 기독교 세계에서 전설적인 인물이 되었고 그의 신화적 혈통은 중세 작가들의 인기있는 주제였다.\\\\n\\\\n《백조 기사의 탄생》(La Naissance du Chevalier au Cygne)은 백조 아이 이야기를 십자군 무훈시에 도입한 첫번째 작품이다. 텍스트는 백조 기사 어머니의 이름에 따라 1) 엘리옥스, 2) 베아트릭스, 3) 엘리옥스와 베아트릭스의 혼합, 4) 이솜베르테의 네 가지 버전으로 분류 할 수 있다. 이 가운데 이솜브레테 계열의 이야기는 프랑스어 버전에는 없고 스페인의 《첫 해외 정복》(Gran conquista de Ultramar )에만 등장한다. (가스통 파리는 그가 버전 I로 부른 십자군과 구분된 백조-아이 이야기 원형도 비슷하게 분류하였다.)\\\\n\\\\n엘리옥스는 돌로파토스 이야기에 가장 가까운 버전이지만 길을 잃은 젊은 영주를 헝가리 너머의 동방의 통치자인 로타이르 왕으로, 처녀를 엘리옥스로 바꾸어 이야기를 보다 궁정식으로 바꾸었다. 로타이르는 길을 잃고 샘 옆에 멈추어 잠들고, 그 사이 산으로 나무를 하러 온 엘리옥스가 등장한다. 한눈에 반한 로타이르는 어머니의 반대를 무릅쓰고 그녀와 결혼하고, 엘리옥스는 자신이 일곱 아이를 낳고 죽을 것이며 그 아이들 가운데 한 명이 동방의 왕이 될 것이라 예언한다.\\\\n\\\\n로타이르가 전쟁에 나간 사이 엘리옥스는 일곱 아이를 낳는다. 시어머니 마트로시유는 엘리옥스를 죽이고 하인에게 아이들을 바구니 둘에 담아 숲에 버리라고 명령하고, 로타이르에게는 엘리옥스가 뱀을 낳고서 물려 죽었다고 거짓말을 한다. 그러나 하인은 은둔자의 오두막 옆에 아이들을 놓아두었고, 아이들은 살아 남아 있다가 7년 후 루데마르라는 탐욕스러운 시종에게 발견된다. 보고를 받은 대비는 아이들의 사슬을 빼앗아 없애라고 명령하지만 탐욕에 눈이 먼 시종은 자신의 것을 챙기느라 미처 누이의 사슬을 빼앗지 못한다. 사슬을 빼앗긴 여섯 소년은 백조의 모습으로 날아가고, 이 이야기를 누이로부터 전해 들은 아버지 로타이르는 백조를 죽이지 말라는 명령을 내린다. 왕의 조카가 백조 하나를 활로 쏘자 로타이르는 금대야를 던져 화살을 막았고 백조가 살아난 대신 금대야가 부서진다. 마트로시유는 대야를 수리하라고 사슬달린 목걸이 하나를 건내주고 이로 인해 진실이 드러난다. 결국 아이들은 사람의 모습을 되찾지만 시종이 사슬을 가져간 한 명만은 백조로 남게 되어 백조 기사가 된다. \\\\n\\\\n베아트릭스 버전에서 다태아 출산은 간음의 증거로 간주되어 무고를 당한 아이들의 어머니가 처벌받는다. 이 버전에서 어머니는 복수하여 정의를 실현한다.1969 이솜브르테 버전에서 여성은 혐오스러운 결혼 생활에서 도망진 공주로 묘사된다.',\n",
       " 'question': '로타이르가 백조를 구하기 위해 사용한 것은?',\n",
       " 'id': 'mrc-1-000219',\n",
       " 'answers': {'answer_start': [1109], 'text': ['금대야']},\n",
       " 'document_id': 59536,\n",
       " '__index_level_0__': 141}"
      ]
     },
     "execution_count": 240,
     "metadata": {},
     "output_type": "execute_result"
    }
   ],
   "source": [
    "# data 1개만 확인해보기\n",
    "mrc_valid_dataset[3]"
   ]
  },
  {
   "cell_type": "markdown",
   "id": "9a4bc481",
   "metadata": {},
   "source": [
    "## dataframe 생성"
   ]
  },
  {
   "cell_type": "code",
   "execution_count": 4,
   "id": "50f6ed80",
   "metadata": {},
   "outputs": [
    {
     "data": {
      "text/plain": [
       "'\\ndef answer_len_f(answers):\\n    answer_len_list = []\\n    for answer in answers:\\n        answer_len_list.append(len(answer))\\n    return answer_len_list\\n'"
      ]
     },
     "execution_count": 4,
     "metadata": {},
     "output_type": "execute_result"
    }
   ],
   "source": [
    "# list에 있는 문자 길이 구하기 -> list길이가 모두 1이라 안쓰게 됨\n",
    "'''\n",
    "def answer_len_f(answers):\n",
    "    answer_len_list = []\n",
    "    for answer in answers:\n",
    "        answer_len_list.append(len(answer))\n",
    "    return answer_len_list\n",
    "'''"
   ]
  },
  {
   "cell_type": "code",
   "execution_count": 5,
   "id": "8c62322e",
   "metadata": {},
   "outputs": [],
   "source": [
    "# train data\n",
    "_id = []  # 중복 확인용\n",
    "doc_id = []\n",
    "title = []\n",
    "context = []\n",
    "question = []\n",
    "answer = []\n",
    "answer_start = []\n",
    "answer_len = []\n",
    "question_len = []\n",
    "context_len = []\n",
    "\n",
    "for train_data in mrc_train_dataset:\n",
    "    _id.append(train_data['id'])\n",
    "    doc_id.append(train_data['document_id'])\n",
    "    title.append(train_data['title'])\n",
    "    context.append(train_data['context'])\n",
    "    question.append(train_data['question'])\n",
    "    answer.append(train_data['answers']['text'][0])\n",
    "    context_len.append(len(train_data['context']))\n",
    "    question_len.append(len(train_data['question']))\n",
    "    #answer_len.append(answer_len_f(train_data['answers']['text']))\n",
    "    answer_len.append(len(train_data['answers']['text'][0]))\n",
    "    answer_start.append(train_data['answers']['answer_start'][0])\n",
    "    \n",
    "train_dict = {\n",
    "    \"id\":_id,\n",
    "    \"doc_id\":doc_id,\n",
    "    \"title\":title,\n",
    "    \"context\":context,\n",
    "    \"question\":question,\n",
    "    \"answer\":answer,\n",
    "    \"context_len\":context_len,\n",
    "    \"question_len\":question_len,\n",
    "    \"answer_len\":answer_len,\n",
    "    \"answer_start\":answer_start,\n",
    "}\n",
    "\n",
    "train_df = pd.DataFrame(train_dict)"
   ]
  },
  {
   "cell_type": "code",
   "execution_count": 6,
   "id": "9b4bc5db",
   "metadata": {},
   "outputs": [
    {
     "name": "stdout",
     "output_type": "stream",
     "text": [
      "<class 'pandas.core.frame.DataFrame'>\n",
      "RangeIndex: 3952 entries, 0 to 3951\n",
      "Data columns (total 10 columns):\n",
      " #   Column        Non-Null Count  Dtype \n",
      "---  ------        --------------  ----- \n",
      " 0   id            3952 non-null   object\n",
      " 1   doc_id        3952 non-null   int64 \n",
      " 2   title         3952 non-null   object\n",
      " 3   context       3952 non-null   object\n",
      " 4   question      3952 non-null   object\n",
      " 5   answer        3952 non-null   object\n",
      " 6   context_len   3952 non-null   int64 \n",
      " 7   question_len  3952 non-null   int64 \n",
      " 8   answer_len    3952 non-null   int64 \n",
      " 9   answer_start  3952 non-null   int64 \n",
      "dtypes: int64(5), object(5)\n",
      "memory usage: 308.9+ KB\n"
     ]
    }
   ],
   "source": [
    "train_df.info()"
   ]
  },
  {
   "cell_type": "code",
   "execution_count": 7,
   "id": "38bd1d6f",
   "metadata": {},
   "outputs": [
    {
     "data": {
      "text/html": [
       "<div>\n",
       "<style scoped>\n",
       "    .dataframe tbody tr th:only-of-type {\n",
       "        vertical-align: middle;\n",
       "    }\n",
       "\n",
       "    .dataframe tbody tr th {\n",
       "        vertical-align: top;\n",
       "    }\n",
       "\n",
       "    .dataframe thead th {\n",
       "        text-align: right;\n",
       "    }\n",
       "</style>\n",
       "<table border=\"1\" class=\"dataframe\">\n",
       "  <thead>\n",
       "    <tr style=\"text-align: right;\">\n",
       "      <th></th>\n",
       "      <th>id</th>\n",
       "      <th>doc_id</th>\n",
       "      <th>title</th>\n",
       "      <th>context</th>\n",
       "      <th>question</th>\n",
       "      <th>answer</th>\n",
       "      <th>context_len</th>\n",
       "      <th>question_len</th>\n",
       "      <th>answer_len</th>\n",
       "      <th>answer_start</th>\n",
       "    </tr>\n",
       "  </thead>\n",
       "  <tbody>\n",
       "    <tr>\n",
       "      <th>0</th>\n",
       "      <td>mrc-1-000067</td>\n",
       "      <td>18293</td>\n",
       "      <td>미국 상원</td>\n",
       "      <td>미국 상의원 또는 미국 상원(United States Senate)은 양원제인 미국...</td>\n",
       "      <td>대통령을 포함한 미국의 행정부 견제권을 갖는 국가 기관은?</td>\n",
       "      <td>하원</td>\n",
       "      <td>862</td>\n",
       "      <td>32</td>\n",
       "      <td>2</td>\n",
       "      <td>235</td>\n",
       "    </tr>\n",
       "    <tr>\n",
       "      <th>1</th>\n",
       "      <td>mrc-0-004397</td>\n",
       "      <td>51638</td>\n",
       "      <td>인사조직관리</td>\n",
       "      <td>'근대적 경영학' 또는 '고전적 경영학'에서 현대적 경영학으로 전환되는 시기는 19...</td>\n",
       "      <td>현대적 인사조직관리의 시발점이 된 책은?</td>\n",
       "      <td>《경영의 실제》</td>\n",
       "      <td>621</td>\n",
       "      <td>22</td>\n",
       "      <td>8</td>\n",
       "      <td>212</td>\n",
       "    </tr>\n",
       "    <tr>\n",
       "      <th>2</th>\n",
       "      <td>mrc-1-000362</td>\n",
       "      <td>5028</td>\n",
       "      <td>강희제</td>\n",
       "      <td>강희제는 강화된 황권으로 거의 황제 중심의 독단적으로 나라를 이끌어 갔기에 자칫 전...</td>\n",
       "      <td>강희제가 1717년에 쓴 글은 누구를 위해 쓰여졌는가?</td>\n",
       "      <td>백성</td>\n",
       "      <td>850</td>\n",
       "      <td>30</td>\n",
       "      <td>2</td>\n",
       "      <td>510</td>\n",
       "    </tr>\n",
       "  </tbody>\n",
       "</table>\n",
       "</div>"
      ],
      "text/plain": [
       "             id  doc_id   title  \\\n",
       "0  mrc-1-000067   18293   미국 상원   \n",
       "1  mrc-0-004397   51638  인사조직관리   \n",
       "2  mrc-1-000362    5028     강희제   \n",
       "\n",
       "                                             context  \\\n",
       "0  미국 상의원 또는 미국 상원(United States Senate)은 양원제인 미국...   \n",
       "1  '근대적 경영학' 또는 '고전적 경영학'에서 현대적 경영학으로 전환되는 시기는 19...   \n",
       "2  강희제는 강화된 황권으로 거의 황제 중심의 독단적으로 나라를 이끌어 갔기에 자칫 전...   \n",
       "\n",
       "                           question    answer  context_len  question_len  \\\n",
       "0  대통령을 포함한 미국의 행정부 견제권을 갖는 국가 기관은?        하원          862            32   \n",
       "1            현대적 인사조직관리의 시발점이 된 책은?  《경영의 실제》          621            22   \n",
       "2    강희제가 1717년에 쓴 글은 누구를 위해 쓰여졌는가?        백성          850            30   \n",
       "\n",
       "   answer_len  answer_start  \n",
       "0           2           235  \n",
       "1           8           212  \n",
       "2           2           510  "
      ]
     },
     "execution_count": 7,
     "metadata": {},
     "output_type": "execute_result"
    }
   ],
   "source": [
    "train_df.head(3)"
   ]
  },
  {
   "cell_type": "code",
   "execution_count": 8,
   "id": "fa970630",
   "metadata": {},
   "outputs": [],
   "source": [
    "# valid data\n",
    "_id = []  # 중복 확인용\n",
    "doc_id = []\n",
    "title = []\n",
    "context = []\n",
    "question = []\n",
    "answer = []\n",
    "answer_start = []\n",
    "answer_len = []\n",
    "question_len = []\n",
    "context_len = []\n",
    "\n",
    "for valid_data in mrc_valid_dataset:\n",
    "    _id.append(valid_data['id'])\n",
    "    doc_id.append(valid_data['document_id'])\n",
    "    title.append(valid_data['title'])\n",
    "    context.append(valid_data['context'])\n",
    "    question.append(valid_data['question'])\n",
    "    answer.append(valid_data['answers']['text'][0])\n",
    "    context_len.append(len(valid_data['context']))\n",
    "    question_len.append(len(valid_data['question']))\n",
    "    #answer_len.append(answer_len_f(valid_data['answers']['text']))\n",
    "    answer_len.append(len(valid_data['answers']['text'][0]))\n",
    "    answer_start.append(valid_data['answers']['answer_start'][0])\n",
    "    \n",
    "valid_dict = {\n",
    "    \"id\":_id,\n",
    "    \"doc_id\":doc_id,\n",
    "    \"title\":title,\n",
    "    \"context\":context,\n",
    "    \"question\":question,\n",
    "    \"answer\":answer,\n",
    "    \"context_len\":context_len,\n",
    "    \"question_len\":question_len,\n",
    "    \"answer_len\":answer_len,\n",
    "    \"answer_start\":answer_start,\n",
    "}\n",
    "\n",
    "valid_df = pd.DataFrame(valid_dict)"
   ]
  },
  {
   "cell_type": "code",
   "execution_count": 9,
   "id": "194098ac",
   "metadata": {},
   "outputs": [
    {
     "name": "stdout",
     "output_type": "stream",
     "text": [
      "<class 'pandas.core.frame.DataFrame'>\n",
      "RangeIndex: 240 entries, 0 to 239\n",
      "Data columns (total 10 columns):\n",
      " #   Column        Non-Null Count  Dtype \n",
      "---  ------        --------------  ----- \n",
      " 0   id            240 non-null    object\n",
      " 1   doc_id        240 non-null    int64 \n",
      " 2   title         240 non-null    object\n",
      " 3   context       240 non-null    object\n",
      " 4   question      240 non-null    object\n",
      " 5   answer        240 non-null    object\n",
      " 6   context_len   240 non-null    int64 \n",
      " 7   question_len  240 non-null    int64 \n",
      " 8   answer_len    240 non-null    int64 \n",
      " 9   answer_start  240 non-null    int64 \n",
      "dtypes: int64(5), object(5)\n",
      "memory usage: 18.9+ KB\n"
     ]
    }
   ],
   "source": [
    "valid_df.info()"
   ]
  },
  {
   "cell_type": "code",
   "execution_count": 10,
   "id": "e112f11a",
   "metadata": {},
   "outputs": [
    {
     "data": {
      "text/html": [
       "<div>\n",
       "<style scoped>\n",
       "    .dataframe tbody tr th:only-of-type {\n",
       "        vertical-align: middle;\n",
       "    }\n",
       "\n",
       "    .dataframe tbody tr th {\n",
       "        vertical-align: top;\n",
       "    }\n",
       "\n",
       "    .dataframe thead th {\n",
       "        text-align: right;\n",
       "    }\n",
       "</style>\n",
       "<table border=\"1\" class=\"dataframe\">\n",
       "  <thead>\n",
       "    <tr style=\"text-align: right;\">\n",
       "      <th></th>\n",
       "      <th>id</th>\n",
       "      <th>doc_id</th>\n",
       "      <th>title</th>\n",
       "      <th>context</th>\n",
       "      <th>question</th>\n",
       "      <th>answer</th>\n",
       "      <th>context_len</th>\n",
       "      <th>question_len</th>\n",
       "      <th>answer_len</th>\n",
       "      <th>answer_start</th>\n",
       "    </tr>\n",
       "  </thead>\n",
       "  <tbody>\n",
       "    <tr>\n",
       "      <th>0</th>\n",
       "      <td>mrc-0-003264</td>\n",
       "      <td>9027</td>\n",
       "      <td>전효숙</td>\n",
       "      <td>순천여자고등학교 졸업, 1973년 이화여자대학교를 졸업하고 1975년 제17회 사법...</td>\n",
       "      <td>처음으로 부실 경영인에 대한 보상 선고를 받은 회사는?</td>\n",
       "      <td>한보철강</td>\n",
       "      <td>625</td>\n",
       "      <td>30</td>\n",
       "      <td>4</td>\n",
       "      <td>284</td>\n",
       "    </tr>\n",
       "    <tr>\n",
       "      <th>1</th>\n",
       "      <td>mrc-0-004762</td>\n",
       "      <td>51765</td>\n",
       "      <td>스토우빌선</td>\n",
       "      <td>요크 카운티 동쪽에 처음으로 여객 열차 운행이 시작한 시점은 1868년 토론토 &amp; ...</td>\n",
       "      <td>스카버러 남쪽과 코보콘그 마을의 철도 노선이 처음 연장된 연도는?</td>\n",
       "      <td>1871년</td>\n",
       "      <td>964</td>\n",
       "      <td>36</td>\n",
       "      <td>5</td>\n",
       "      <td>146</td>\n",
       "    </tr>\n",
       "    <tr>\n",
       "      <th>2</th>\n",
       "      <td>mrc-1-001810</td>\n",
       "      <td>15694</td>\n",
       "      <td>촐라</td>\n",
       "      <td>촐라 정부\\n 촐라의 정부 체제는 전제군주제였으며,2001 촐라의 군주는 절대적인 ...</td>\n",
       "      <td>촌락에서 운영 위원 후보자 이름을 쓰기위해 사용된 것은?</td>\n",
       "      <td>나뭇잎</td>\n",
       "      <td>611</td>\n",
       "      <td>31</td>\n",
       "      <td>3</td>\n",
       "      <td>517</td>\n",
       "    </tr>\n",
       "  </tbody>\n",
       "</table>\n",
       "</div>"
      ],
      "text/plain": [
       "             id  doc_id  title  \\\n",
       "0  mrc-0-003264    9027    전효숙   \n",
       "1  mrc-0-004762   51765  스토우빌선   \n",
       "2  mrc-1-001810   15694     촐라   \n",
       "\n",
       "                                             context  \\\n",
       "0  순천여자고등학교 졸업, 1973년 이화여자대학교를 졸업하고 1975년 제17회 사법...   \n",
       "1  요크 카운티 동쪽에 처음으로 여객 열차 운행이 시작한 시점은 1868년 토론토 & ...   \n",
       "2  촐라 정부\\n 촐라의 정부 체제는 전제군주제였으며,2001 촐라의 군주는 절대적인 ...   \n",
       "\n",
       "                               question answer  context_len  question_len  \\\n",
       "0        처음으로 부실 경영인에 대한 보상 선고를 받은 회사는?   한보철강          625            30   \n",
       "1  스카버러 남쪽과 코보콘그 마을의 철도 노선이 처음 연장된 연도는?  1871년          964            36   \n",
       "2       촌락에서 운영 위원 후보자 이름을 쓰기위해 사용된 것은?    나뭇잎          611            31   \n",
       "\n",
       "   answer_len  answer_start  \n",
       "0           4           284  \n",
       "1           5           146  \n",
       "2           3           517  "
      ]
     },
     "execution_count": 10,
     "metadata": {},
     "output_type": "execute_result"
    }
   ],
   "source": [
    "valid_df.head(3)"
   ]
  },
  {
   "cell_type": "code",
   "execution_count": 11,
   "id": "6d5effd0",
   "metadata": {},
   "outputs": [
    {
     "data": {
      "text/html": [
       "<div>\n",
       "<style scoped>\n",
       "    .dataframe tbody tr th:only-of-type {\n",
       "        vertical-align: middle;\n",
       "    }\n",
       "\n",
       "    .dataframe tbody tr th {\n",
       "        vertical-align: top;\n",
       "    }\n",
       "\n",
       "    .dataframe thead th {\n",
       "        text-align: right;\n",
       "    }\n",
       "</style>\n",
       "<table border=\"1\" class=\"dataframe\">\n",
       "  <thead>\n",
       "    <tr style=\"text-align: right;\">\n",
       "      <th></th>\n",
       "      <th>id</th>\n",
       "      <th>doc_id</th>\n",
       "      <th>title</th>\n",
       "      <th>context</th>\n",
       "      <th>question</th>\n",
       "      <th>answer</th>\n",
       "      <th>context_len</th>\n",
       "      <th>question_len</th>\n",
       "      <th>answer_len</th>\n",
       "      <th>answer_start</th>\n",
       "    </tr>\n",
       "  </thead>\n",
       "  <tbody>\n",
       "    <tr>\n",
       "      <th>4189</th>\n",
       "      <td>mrc-0-003083</td>\n",
       "      <td>5326</td>\n",
       "      <td>윤치호</td>\n",
       "      <td>1940년 5월 1일 오전 창씨개명에 비협조적이라는 이유로 조선총독부 경무국에서 소...</td>\n",
       "      <td>창씨개명령의 시행일을 미루는 것을 수락한 인물은?</td>\n",
       "      <td>미나미 지로</td>\n",
       "      <td>1314</td>\n",
       "      <td>27</td>\n",
       "      <td>6</td>\n",
       "      <td>247</td>\n",
       "    </tr>\n",
       "    <tr>\n",
       "      <th>4190</th>\n",
       "      <td>mrc-0-002978</td>\n",
       "      <td>48575</td>\n",
       "      <td>신잉카국</td>\n",
       "      <td>빌카밤바 지역은 파차쿠티 황제 때 부터 잉카 제국에 속해있던 지역이었다. 스페인 군...</td>\n",
       "      <td>망코 잉카가 쿠스코를 되찾기 위해 마련한 군사는 총 몇 명인가?</td>\n",
       "      <td>200,000명</td>\n",
       "      <td>998</td>\n",
       "      <td>35</td>\n",
       "      <td>8</td>\n",
       "      <td>563</td>\n",
       "    </tr>\n",
       "    <tr>\n",
       "      <th>4191</th>\n",
       "      <td>mrc-1-000622</td>\n",
       "      <td>5761</td>\n",
       "      <td>레닌주의</td>\n",
       "      <td>사회주의 혁명은 오로지 선진노동자계급에 기초한 계급투쟁으로서 이루어질 수 있다고 주...</td>\n",
       "      <td>마르크스주의자들의 사상은?</td>\n",
       "      <td>공산주의</td>\n",
       "      <td>967</td>\n",
       "      <td>14</td>\n",
       "      <td>4</td>\n",
       "      <td>811</td>\n",
       "    </tr>\n",
       "  </tbody>\n",
       "</table>\n",
       "</div>"
      ],
      "text/plain": [
       "                id  doc_id title  \\\n",
       "4189  mrc-0-003083    5326   윤치호   \n",
       "4190  mrc-0-002978   48575  신잉카국   \n",
       "4191  mrc-1-000622    5761  레닌주의   \n",
       "\n",
       "                                                context  \\\n",
       "4189  1940년 5월 1일 오전 창씨개명에 비협조적이라는 이유로 조선총독부 경무국에서 소...   \n",
       "4190  빌카밤바 지역은 파차쿠티 황제 때 부터 잉카 제국에 속해있던 지역이었다. 스페인 군...   \n",
       "4191  사회주의 혁명은 오로지 선진노동자계급에 기초한 계급투쟁으로서 이루어질 수 있다고 주...   \n",
       "\n",
       "                                 question    answer  context_len  \\\n",
       "4189          창씨개명령의 시행일을 미루는 것을 수락한 인물은?    미나미 지로         1314   \n",
       "4190  망코 잉카가 쿠스코를 되찾기 위해 마련한 군사는 총 몇 명인가?  200,000명          998   \n",
       "4191                       마르크스주의자들의 사상은?      공산주의          967   \n",
       "\n",
       "      question_len  answer_len  answer_start  \n",
       "4189            27           6           247  \n",
       "4190            35           8           563  \n",
       "4191            14           4           811  "
      ]
     },
     "execution_count": 11,
     "metadata": {},
     "output_type": "execute_result"
    }
   ],
   "source": [
    "all_df = pd.concat([train_df,valid_df], ignore_index=True)\n",
    "all_df.tail(3)"
   ]
  },
  {
   "cell_type": "markdown",
   "id": "ddb0fabd",
   "metadata": {},
   "source": [
    "---\n",
    "# 1. data 자체에 오류가 없는지 확인"
   ]
  },
  {
   "cell_type": "markdown",
   "id": "ade7c865",
   "metadata": {},
   "source": [
    "## 1) answer, answer start 길이 확인\n",
    "- 강의에서 train에는 answer가 1개씩이지만 valid나 test에서는 answer or start index가 2개 이상 있을 수 있다고 하여 확인\n",
    "- `answer_len`은 내가 만든 데이터라 확인할 필요 X(원본 데이터만 확인하면 됨)"
   ]
  },
  {
   "cell_type": "markdown",
   "id": "f83d8201",
   "metadata": {},
   "source": [
    "```python\n",
    "# train data\n",
    "for i in range(len(train_df)):\n",
    "    if len(train_df['answer'][i])==1:\n",
    "        pass\n",
    "    else:\n",
    "        print(i,'----')\n",
    "        \n",
    "    if len(train_df['answer_start'][i])==1:\n",
    "        pass\n",
    "    else:\n",
    "        print(i,'----')\n",
    "        \n",
    "# valid data\n",
    "for i in range(len(valid_df)):\n",
    "    if len(valid_df['answer'][i])==1:\n",
    "        pass\n",
    "    else:\n",
    "        print(i,'----')\n",
    "        \n",
    "    if len(valid_df['answer_start'][i])==1:\n",
    "        pass\n",
    "    else:\n",
    "        print(i,'----')\n",
    "```"
   ]
  },
  {
   "cell_type": "markdown",
   "id": "184738aa",
   "metadata": {},
   "source": [
    "- 확인 결과 모두 1개이다. -> train,valid df의 `answer`, `answer_len`, `answer_start`를 모두 int 형태로 바꿔도 될 것 같다. \n",
    "### <span style='color:blue'>-->변경완료</span>"
   ]
  },
  {
   "cell_type": "markdown",
   "id": "9a68856f",
   "metadata": {},
   "source": [
    "## 2) context에 answer가 존재하는가?"
   ]
  },
  {
   "cell_type": "code",
   "execution_count": 12,
   "id": "1e11c08a",
   "metadata": {},
   "outputs": [],
   "source": [
    "for i in range(len(all_df)):\n",
    "    if all_df['answer'][i] in all_df['context'][i]:\n",
    "        pass\n",
    "    else:\n",
    "        print(i,'-------')\n"
   ]
  },
  {
   "cell_type": "markdown",
   "id": "ac2208bc",
   "metadata": {},
   "source": [
    "- 모두 존재한다."
   ]
  },
  {
   "cell_type": "markdown",
   "id": "d141f896",
   "metadata": {},
   "source": [
    "## 3) context에서 answer start 지점이 잘 표시되었는가?"
   ]
  },
  {
   "cell_type": "code",
   "execution_count": 13,
   "id": "77735611",
   "metadata": {},
   "outputs": [],
   "source": [
    "for i in range(len(all_df)):\n",
    "    answer_start = all_df['answer_start'][i]\n",
    "    answer_end = answer_start + all_df['answer_len'][i]\n",
    "    find_se = all_df['context'][i][answer_start:answer_end] # start, end index로 자른 정답\n",
    "    if find_se == all_df['answer'][i]:\n",
    "        pass\n",
    "    else:\n",
    "        print(find_se, all_df['answer'][i], i)\n",
    "        "
   ]
  },
  {
   "cell_type": "markdown",
   "id": "cf418c3c",
   "metadata": {},
   "source": [
    "- 모두 잘 표시되었다."
   ]
  },
  {
   "cell_type": "markdown",
   "id": "777d8734",
   "metadata": {},
   "source": [
    "## 4) doc id가 같은 것끼리 context도 같은가?"
   ]
  },
  {
   "cell_type": "code",
   "execution_count": 14,
   "id": "bb3b4c1c",
   "metadata": {},
   "outputs": [
    {
     "data": {
      "text/html": [
       "<div>\n",
       "<style scoped>\n",
       "    .dataframe tbody tr th:only-of-type {\n",
       "        vertical-align: middle;\n",
       "    }\n",
       "\n",
       "    .dataframe tbody tr th {\n",
       "        vertical-align: top;\n",
       "    }\n",
       "\n",
       "    .dataframe thead th {\n",
       "        text-align: right;\n",
       "    }\n",
       "</style>\n",
       "<table border=\"1\" class=\"dataframe\">\n",
       "  <thead>\n",
       "    <tr style=\"text-align: right;\">\n",
       "      <th></th>\n",
       "      <th>doc_id</th>\n",
       "      <th>context</th>\n",
       "    </tr>\n",
       "  </thead>\n",
       "  <tbody>\n",
       "    <tr>\n",
       "      <th>0</th>\n",
       "      <td>18293</td>\n",
       "      <td>미국 상의원 또는 미국 상원(United States Senate)은 양원제인 미국...</td>\n",
       "    </tr>\n",
       "    <tr>\n",
       "      <th>1</th>\n",
       "      <td>51638</td>\n",
       "      <td>'근대적 경영학' 또는 '고전적 경영학'에서 현대적 경영학으로 전환되는 시기는 19...</td>\n",
       "    </tr>\n",
       "    <tr>\n",
       "      <th>2</th>\n",
       "      <td>5028</td>\n",
       "      <td>강희제는 강화된 황권으로 거의 황제 중심의 독단적으로 나라를 이끌어 갔기에 자칫 전...</td>\n",
       "    </tr>\n",
       "    <tr>\n",
       "      <th>3</th>\n",
       "      <td>34146</td>\n",
       "      <td>불상을 모시기 위해 나무나 돌, 쇠 등을 깎아 일반적인 건축물보다 작은 규모로 만든...</td>\n",
       "    </tr>\n",
       "    <tr>\n",
       "      <th>4</th>\n",
       "      <td>47334</td>\n",
       "      <td>동아대학교박물관에서 소장하고 있는 계사명 사리구는 총 4개의 용기로 구성된 조선후기...</td>\n",
       "    </tr>\n",
       "    <tr>\n",
       "      <th>...</th>\n",
       "      <td>...</td>\n",
       "      <td>...</td>\n",
       "    </tr>\n",
       "    <tr>\n",
       "      <th>4187</th>\n",
       "      <td>53265</td>\n",
       "      <td>연나라 군대의 사령관이 악의에서 기겁으로 교체되자, 전단은 스스로 신령의 계시를 받...</td>\n",
       "    </tr>\n",
       "    <tr>\n",
       "      <th>4188</th>\n",
       "      <td>12190</td>\n",
       "      <td>현재 우리가 볼 수 있는 티칼의 모습은 펜실베이니아 대학교와 과테말라 정부의 협조 ...</td>\n",
       "    </tr>\n",
       "    <tr>\n",
       "      <th>4189</th>\n",
       "      <td>5326</td>\n",
       "      <td>1940년 5월 1일 오전 창씨개명에 비협조적이라는 이유로 조선총독부 경무국에서 소...</td>\n",
       "    </tr>\n",
       "    <tr>\n",
       "      <th>4190</th>\n",
       "      <td>48575</td>\n",
       "      <td>빌카밤바 지역은 파차쿠티 황제 때 부터 잉카 제국에 속해있던 지역이었다. 스페인 군...</td>\n",
       "    </tr>\n",
       "    <tr>\n",
       "      <th>4191</th>\n",
       "      <td>5761</td>\n",
       "      <td>사회주의 혁명은 오로지 선진노동자계급에 기초한 계급투쟁으로서 이루어질 수 있다고 주...</td>\n",
       "    </tr>\n",
       "  </tbody>\n",
       "</table>\n",
       "<p>4192 rows × 2 columns</p>\n",
       "</div>"
      ],
      "text/plain": [
       "      doc_id                                            context\n",
       "0      18293  미국 상의원 또는 미국 상원(United States Senate)은 양원제인 미국...\n",
       "1      51638  '근대적 경영학' 또는 '고전적 경영학'에서 현대적 경영학으로 전환되는 시기는 19...\n",
       "2       5028  강희제는 강화된 황권으로 거의 황제 중심의 독단적으로 나라를 이끌어 갔기에 자칫 전...\n",
       "3      34146  불상을 모시기 위해 나무나 돌, 쇠 등을 깎아 일반적인 건축물보다 작은 규모로 만든...\n",
       "4      47334  동아대학교박물관에서 소장하고 있는 계사명 사리구는 총 4개의 용기로 구성된 조선후기...\n",
       "...      ...                                                ...\n",
       "4187   53265  연나라 군대의 사령관이 악의에서 기겁으로 교체되자, 전단은 스스로 신령의 계시를 받...\n",
       "4188   12190  현재 우리가 볼 수 있는 티칼의 모습은 펜실베이니아 대학교와 과테말라 정부의 협조 ...\n",
       "4189    5326  1940년 5월 1일 오전 창씨개명에 비협조적이라는 이유로 조선총독부 경무국에서 소...\n",
       "4190   48575  빌카밤바 지역은 파차쿠티 황제 때 부터 잉카 제국에 속해있던 지역이었다. 스페인 군...\n",
       "4191    5761  사회주의 혁명은 오로지 선진노동자계급에 기초한 계급투쟁으로서 이루어질 수 있다고 주...\n",
       "\n",
       "[4192 rows x 2 columns]"
      ]
     },
     "execution_count": 14,
     "metadata": {},
     "output_type": "execute_result"
    }
   ],
   "source": [
    "doc_context_df = all_df[['doc_id','context']]\n",
    "doc_context_df"
   ]
  },
  {
   "cell_type": "code",
   "execution_count": 15,
   "id": "3c37549b",
   "metadata": {},
   "outputs": [
    {
     "name": "stdout",
     "output_type": "stream",
     "text": [
      "1336\n",
      "1336\n",
      "1336\n"
     ]
    }
   ],
   "source": [
    "print(len(doc_context_df[doc_context_df.duplicated(['doc_id'],keep=False)]))\n",
    "print(len(doc_context_df[doc_context_df.duplicated(['context'],keep=False)]))\n",
    "print(len(doc_context_df[doc_context_df.duplicated(['doc_id','context'],keep=False)]))"
   ]
  },
  {
   "cell_type": "markdown",
   "id": "3b29d37b",
   "metadata": {},
   "source": [
    "같다."
   ]
  },
  {
   "cell_type": "markdown",
   "id": "a27154fd",
   "metadata": {},
   "source": [
    "---\n",
    "# 2. 중복 data 확인"
   ]
  },
  {
   "cell_type": "code",
   "execution_count": 16,
   "id": "2d6985b1",
   "metadata": {},
   "outputs": [],
   "source": [
    "check_list = ['id', 'title', 'context', 'question']"
   ]
  },
  {
   "cell_type": "code",
   "execution_count": 17,
   "id": "9ee7f03a",
   "metadata": {},
   "outputs": [
    {
     "name": "stdout",
     "output_type": "stream",
     "text": [
      "in train ------ \n",
      "중복 원본까지 - id: 0\n",
      "중복되는 것만 - id: 0\n",
      "중복 원본까지 - title: 1944\n",
      "중복되는 것만 - title: 1236\n",
      "중복 원본까지 - context: 1191\n",
      "중복되는 것만 - context: 612\n",
      "중복 원본까지 - question: 0\n",
      "중복되는 것만 - question: 0\n",
      "\n",
      "\n",
      "in valid ------ \n",
      "중복 원본까지 - id: 0\n",
      "중복되는 것만 - id: 0\n",
      "중복 원본까지 - title: 24\n",
      "중복되는 것만 - title: 12\n",
      "중복 원본까지 - context: 10\n",
      "중복되는 것만 - context: 5\n",
      "중복 원본까지 - question: 0\n",
      "중복되는 것만 - question: 0\n",
      "\n",
      "\n",
      "in all data ------ \n",
      "중복 원본까지 - id: 0\n",
      "중복되는 것만 - id: 0\n",
      "중복 원본까지 - title: 2152\n",
      "중복되는 것만 - title: 1368\n",
      "중복 원본까지 - context: 1336\n",
      "중복되는 것만 - context: 688\n",
      "중복 원본까지 - question: 0\n",
      "중복되는 것만 - question: 0\n"
     ]
    }
   ],
   "source": [
    "print('in train ------ ')\n",
    "for check in check_list:\n",
    "    print(f'중복 원본까지 - {check}: {len(train_df[train_df.duplicated(check,keep=False)])}')\n",
    "    print(f'중복되는 것만 - {check}: {len(train_df[train_df.duplicated(check)])}')\n",
    "    \n",
    "print('\\n\\nin valid ------ ')\n",
    "for check in check_list:\n",
    "    print(f'중복 원본까지 - {check}: {len(valid_df[valid_df.duplicated(check,keep=False)])}')\n",
    "    print(f'중복되는 것만 - {check}: {len(valid_df[valid_df.duplicated(check)])}')\n",
    "    \n",
    "print('\\n\\nin all data ------ ')\n",
    "for check in check_list:\n",
    "    print(f'중복 원본까지 - {check}: {len(all_df[all_df.duplicated(check,keep=False)])}')\n",
    "    print(f'중복되는 것만 - {check}: {len(all_df[all_df.duplicated(check)])}')"
   ]
  },
  {
   "cell_type": "markdown",
   "id": "96968210",
   "metadata": {},
   "source": [
    "- duplicated 함수는 `a` `a` `a` -> `false` `true` `true` 를 반환한다. **(2)** 원본을 제외하고 중복의 개수를 세는 것!\n",
    "- **train에 context 중복이 굉장히 많음**을 확인 가능. valid에는 5개밖에 없음\n",
    "- 같은 context 다른 질문인 것을 모두 train에 넣기에는 valid로 구성하지 못하는 data의 비중이 너무 많은 것 같다.1336/4192\n",
    "- train+val을 하니 71개가 더 추가됨 - train, val간에도 중복되는 문장 존재"
   ]
  },
  {
   "cell_type": "markdown",
   "id": "4d119131",
   "metadata": {},
   "source": [
    "# 3. 길이 시각화"
   ]
  },
  {
   "cell_type": "code",
   "execution_count": 18,
   "id": "bc481c5f",
   "metadata": {},
   "outputs": [
    {
     "data": {
      "text/html": [
       "<div>\n",
       "<style scoped>\n",
       "    .dataframe tbody tr th:only-of-type {\n",
       "        vertical-align: middle;\n",
       "    }\n",
       "\n",
       "    .dataframe tbody tr th {\n",
       "        vertical-align: top;\n",
       "    }\n",
       "\n",
       "    .dataframe thead th {\n",
       "        text-align: right;\n",
       "    }\n",
       "</style>\n",
       "<table border=\"1\" class=\"dataframe\">\n",
       "  <thead>\n",
       "    <tr style=\"text-align: right;\">\n",
       "      <th></th>\n",
       "      <th>id</th>\n",
       "      <th>doc_id</th>\n",
       "      <th>title</th>\n",
       "      <th>context</th>\n",
       "      <th>question</th>\n",
       "      <th>answer</th>\n",
       "      <th>context_len</th>\n",
       "      <th>question_len</th>\n",
       "      <th>answer_len</th>\n",
       "      <th>answer_start</th>\n",
       "      <th>doc_type</th>\n",
       "    </tr>\n",
       "  </thead>\n",
       "  <tbody>\n",
       "    <tr>\n",
       "      <th>8381</th>\n",
       "      <td>mrc-0-003083</td>\n",
       "      <td>5326</td>\n",
       "      <td>윤치호</td>\n",
       "      <td>1940년 5월 1일 오전 창씨개명에 비협조적이라는 이유로 조선총독부 경무국에서 소...</td>\n",
       "      <td>창씨개명령의 시행일을 미루는 것을 수락한 인물은?</td>\n",
       "      <td>미나미 지로</td>\n",
       "      <td>1314</td>\n",
       "      <td>27</td>\n",
       "      <td>6</td>\n",
       "      <td>247</td>\n",
       "      <td>all</td>\n",
       "    </tr>\n",
       "    <tr>\n",
       "      <th>8382</th>\n",
       "      <td>mrc-0-002978</td>\n",
       "      <td>48575</td>\n",
       "      <td>신잉카국</td>\n",
       "      <td>빌카밤바 지역은 파차쿠티 황제 때 부터 잉카 제국에 속해있던 지역이었다. 스페인 군...</td>\n",
       "      <td>망코 잉카가 쿠스코를 되찾기 위해 마련한 군사는 총 몇 명인가?</td>\n",
       "      <td>200,000명</td>\n",
       "      <td>998</td>\n",
       "      <td>35</td>\n",
       "      <td>8</td>\n",
       "      <td>563</td>\n",
       "      <td>all</td>\n",
       "    </tr>\n",
       "    <tr>\n",
       "      <th>8383</th>\n",
       "      <td>mrc-1-000622</td>\n",
       "      <td>5761</td>\n",
       "      <td>레닌주의</td>\n",
       "      <td>사회주의 혁명은 오로지 선진노동자계급에 기초한 계급투쟁으로서 이루어질 수 있다고 주...</td>\n",
       "      <td>마르크스주의자들의 사상은?</td>\n",
       "      <td>공산주의</td>\n",
       "      <td>967</td>\n",
       "      <td>14</td>\n",
       "      <td>4</td>\n",
       "      <td>811</td>\n",
       "      <td>all</td>\n",
       "    </tr>\n",
       "  </tbody>\n",
       "</table>\n",
       "</div>"
      ],
      "text/plain": [
       "                id  doc_id title  \\\n",
       "8381  mrc-0-003083    5326   윤치호   \n",
       "8382  mrc-0-002978   48575  신잉카국   \n",
       "8383  mrc-1-000622    5761  레닌주의   \n",
       "\n",
       "                                                context  \\\n",
       "8381  1940년 5월 1일 오전 창씨개명에 비협조적이라는 이유로 조선총독부 경무국에서 소...   \n",
       "8382  빌카밤바 지역은 파차쿠티 황제 때 부터 잉카 제국에 속해있던 지역이었다. 스페인 군...   \n",
       "8383  사회주의 혁명은 오로지 선진노동자계급에 기초한 계급투쟁으로서 이루어질 수 있다고 주...   \n",
       "\n",
       "                                 question    answer  context_len  \\\n",
       "8381          창씨개명령의 시행일을 미루는 것을 수락한 인물은?    미나미 지로         1314   \n",
       "8382  망코 잉카가 쿠스코를 되찾기 위해 마련한 군사는 총 몇 명인가?  200,000명          998   \n",
       "8383                       마르크스주의자들의 사상은?      공산주의          967   \n",
       "\n",
       "      question_len  answer_len  answer_start doc_type  \n",
       "8381            27           6           247      all  \n",
       "8382            35           8           563      all  \n",
       "8383            14           4           811      all  "
      ]
     },
     "execution_count": 18,
     "metadata": {},
     "output_type": "execute_result"
    }
   ],
   "source": [
    "# 길이 비교를 위해 train, valid, all df 합치기\n",
    "train_df['doc_type']='train'\n",
    "valid_df['doc_type']='valid'\n",
    "all_df['doc_type']='all'\n",
    "concat3_df = pd.concat([train_df,valid_df,all_df], ignore_index=True)\n",
    "concat3_df.tail(3)"
   ]
  },
  {
   "cell_type": "code",
   "execution_count": 19,
   "id": "c5b6ca79",
   "metadata": {},
   "outputs": [],
   "source": [
    "def violinbox_len(type_len):\n",
    "    print('train data-----------------------------')\n",
    "    print('최댓값: ',train_df.describe()[type_len]['max'])\n",
    "    print('최솟값: ',train_df.describe()[type_len]['min'])\n",
    "    print('평균: ',train_df.describe()[type_len]['mean'])\n",
    "    print('\\nvalid data-----------------------------')\n",
    "    print('최댓값: ',valid_df.describe()[type_len]['max'])\n",
    "    print('최솟값: ',valid_df.describe()[type_len]['min'])\n",
    "    print('평균: ',valid_df.describe()[type_len]['mean'])\n",
    "    print('\\nall data(train+valid)------------------')\n",
    "    print('최댓값: ',all_df.describe()[type_len]['max'])\n",
    "    print('최솟값: ',all_df.describe()[type_len]['min'])\n",
    "    print('평균: ',all_df.describe()[type_len]['mean'])\n",
    "    print('\\n\\n')\n",
    "    fig, ax = plt.subplots(figsize=(16,9),nrows=2)\n",
    "    ax=sns.boxplot(data=concat3_df, x=type_len,y=\"doc_type\",\n",
    "                showmeans=True,\n",
    "                meanprops={\"marker\":\"o\",\n",
    "                           \"markerfacecolor\":\"white\", \n",
    "                           \"markeredgecolor\":\"black\",\n",
    "                          \"markersize\":\"5\"},\n",
    "                palette='Set2',\n",
    "                ax=ax[0])\n",
    "\n",
    "    ax.set(xlabel=None) # 위에 있는 plot xlabel 삭제\n",
    "\n",
    "    ax=sns.violinplot(data=concat3_df, x=type_len,y=\"doc_type\",palette='Set2');\n",
    "    plt.show()\n"
   ]
  },
  {
   "cell_type": "markdown",
   "id": "475c56b2",
   "metadata": {},
   "source": [
    "## 1) Context"
   ]
  },
  {
   "cell_type": "code",
   "execution_count": 20,
   "id": "cf2a99c2",
   "metadata": {
    "scrolled": false
   },
   "outputs": [
    {
     "name": "stdout",
     "output_type": "stream",
     "text": [
      "train data-----------------------------\n",
      "최댓값:  2059.0\n",
      "최솟값:  512.0\n",
      "평균:  920.2206477732793\n",
      "\n",
      "valid data-----------------------------\n",
      "최댓값:  2064.0\n",
      "최솟값:  517.0\n",
      "평균:  916.725\n",
      "\n",
      "all data(train+valid)------------------\n",
      "최댓값:  2064.0\n",
      "최솟값:  512.0\n",
      "평균:  920.0205152671756\n",
      "\n",
      "\n",
      "\n"
     ]
    },
    {
     "data": {
      "image/png": "[encoded data removed]",
      "text/plain": [
       "<Figure size 1152x648 with 2 Axes>"
      ]
     },
     "metadata": {
      "needs_background": "light"
     },
     "output_type": "display_data"
    }
   ],
   "source": [
    "violinbox_len('context_len')"
   ]
  },
  {
   "cell_type": "markdown",
   "id": "b184289c",
   "metadata": {},
   "source": [
    "## 2) Question"
   ]
  },
  {
   "cell_type": "code",
   "execution_count": 21,
   "id": "2afcc40e",
   "metadata": {
    "scrolled": false
   },
   "outputs": [
    {
     "name": "stdout",
     "output_type": "stream",
     "text": [
      "train data-----------------------------\n",
      "최댓값:  78.0\n",
      "최솟값:  8.0\n",
      "평균:  29.32236842105263\n",
      "\n",
      "valid data-----------------------------\n",
      "최댓값:  59.0\n",
      "최솟값:  9.0\n",
      "평균:  29.195833333333333\n",
      "\n",
      "all data(train+valid)------------------\n",
      "최댓값:  78.0\n",
      "최솟값:  8.0\n",
      "평균:  29.315124045801525\n",
      "\n",
      "\n",
      "\n"
     ]
    },
    {
     "data": {
      "image/png": "[encoded data removed]",
      "text/plain": [
       "<Figure size 1152x648 with 2 Axes>"
      ]
     },
     "metadata": {
      "needs_background": "light"
     },
     "output_type": "display_data"
    }
   ],
   "source": [
    "violinbox_len('question_len')"
   ]
  },
  {
   "cell_type": "markdown",
   "id": "aa8d2f05",
   "metadata": {},
   "source": [
    "## 3) Answer"
   ]
  },
  {
   "cell_type": "code",
   "execution_count": 22,
   "id": "9eaffa74",
   "metadata": {
    "scrolled": false
   },
   "outputs": [
    {
     "name": "stdout",
     "output_type": "stream",
     "text": [
      "train data-----------------------------\n",
      "최댓값:  83.0\n",
      "최솟값:  1.0\n",
      "평균:  6.275050607287449\n",
      "\n",
      "valid data-----------------------------\n",
      "최댓값:  64.0\n",
      "최솟값:  1.0\n",
      "평균:  6.9125\n",
      "\n",
      "all data(train+valid)------------------\n",
      "최댓값:  83.0\n",
      "최솟값:  1.0\n",
      "평균:  6.311545801526718\n",
      "\n",
      "\n",
      "\n"
     ]
    },
    {
     "data": {
      "image/png": "[encoded data removed]",
      "text/plain": [
       "<Figure size 1152x648 with 2 Axes>"
      ]
     },
     "metadata": {
      "needs_background": "light"
     },
     "output_type": "display_data"
    }
   ],
   "source": [
    "violinbox_len('answer_len')"
   ]
  },
  {
   "cell_type": "markdown",
   "id": "f6c7dde0",
   "metadata": {},
   "source": [
    "# 4. 토크나이저 거친 이후 그래프 살펴보기 (question)"
   ]
  },
  {
   "cell_type": "code",
   "execution_count": 23,
   "id": "b494ebf2",
   "metadata": {
    "scrolled": true
   },
   "outputs": [],
   "source": [
    "from transformers import AutoModel, AutoTokenizer, BertTokenizer\n",
    "MODEL_NAME = \"klue/roberta-large\"\n",
    "tokenizer = AutoTokenizer.from_pretrained(MODEL_NAME)"
   ]
  },
  {
   "cell_type": "markdown",
   "id": "b02aa413",
   "metadata": {},
   "source": [
    "## 1) 토크나이저 분포 count"
   ]
  },
  {
   "cell_type": "code",
   "execution_count": 24,
   "id": "499c5a08",
   "metadata": {},
   "outputs": [
    {
     "name": "stderr",
     "output_type": "stream",
     "text": [
      "100%|██████████| 3952/3952 [00:00<00:00, 6603.12it/s]\n"
     ]
    }
   ],
   "source": [
    "token_train_dict = {}\n",
    "for i in tqdm(range(len(train_df))):\n",
    "    text = train_df['question'][i]\n",
    "    tokenized_text = tokenizer.tokenize(text)\n",
    "    for tt in tokenized_text:\n",
    "        try:\n",
    "            token_train_dict[tt]+=1\n",
    "        except:\n",
    "            token_train_dict[tt] = 1\n",
    "            \n",
    "token_train_df = pd.DataFrame(list(token_train_dict.items()), columns=['token','count'])\n",
    "token_train_df = token_train_df.sort_values('count',ascending=False)\n",
    "token_train_df = token_train_df.reset_index(drop=True)"
   ]
  },
  {
   "cell_type": "code",
   "execution_count": 25,
   "id": "91647d0d",
   "metadata": {},
   "outputs": [
    {
     "name": "stderr",
     "output_type": "stream",
     "text": [
      "100%|██████████| 240/240 [00:00<00:00, 6572.08it/s]\n"
     ]
    }
   ],
   "source": [
    "token_valid_dict = {}\n",
    "for i in tqdm(range(len(valid_df))):\n",
    "    text = valid_df['question'][i]\n",
    "    tokenized_text = tokenizer.tokenize(text)\n",
    "    for tt in tokenized_text:\n",
    "        try:\n",
    "            token_valid_dict[tt]+=1\n",
    "        except:\n",
    "            token_valid_dict[tt] = 1\n",
    "            \n",
    "token_valid_df = pd.DataFrame(list(token_valid_dict.items()), columns=['token','count'])\n",
    "token_valid_df = token_valid_df.sort_values('count',ascending=False)\n",
    "token_valid_df = token_valid_df.reset_index(drop=True)"
   ]
  },
  {
   "cell_type": "code",
   "execution_count": 26,
   "id": "cdbb7bb8",
   "metadata": {},
   "outputs": [
    {
     "name": "stderr",
     "output_type": "stream",
     "text": [
      "100%|██████████| 4192/4192 [00:00<00:00, 6679.86it/s]\n"
     ]
    }
   ],
   "source": [
    "token_all_dict = {}\n",
    "for i in tqdm(range(len(all_df))):\n",
    "    text = all_df['question'][i]\n",
    "    tokenized_text = tokenizer.tokenize(text)\n",
    "    for tt in tokenized_text:\n",
    "        try:\n",
    "            token_all_dict[tt]+=1\n",
    "        except:\n",
    "            token_all_dict[tt] = 1\n",
    "            \n",
    "token_all_df = pd.DataFrame(list(token_all_dict.items()), columns=['token','count'])\n",
    "token_all_df = token_all_df.sort_values('count',ascending=False)\n",
    "token_all_df = token_all_df.reset_index(drop=True)"
   ]
  },
  {
   "cell_type": "code",
   "execution_count": 201,
   "id": "f315be98",
   "metadata": {},
   "outputs": [
    {
     "data": {
      "image/png": "[encoded data removed]",
      "text/plain": [
       "<Figure size 1080x648 with 1 Axes>"
      ]
     },
     "metadata": {
      "needs_background": "light"
     },
     "output_type": "display_data"
    }
   ],
   "source": [
    "plt.rc('font', family='NanumBarunGothic')\n",
    "fig = plt.subplots(figsize=(15,9))\n",
    "ax=sns.barplot(y = token_train_df['token'][:30], x=token_train_df['count'][:30]);\n",
    "\n",
    "for rect in ax.patches:\n",
    "    ax.text (rect.get_width()+80,rect.get_y() + rect.get_height()/2,int(rect.get_width()),horizontalalignment='center', fontsize = 10)"
   ]
  },
  {
   "cell_type": "code",
   "execution_count": 65,
   "id": "96461a7b",
   "metadata": {},
   "outputs": [
    {
     "data": {
      "image/png": "[encoded data removed]",
      "text/plain": [
       "<Figure size 1080x648 with 1 Axes>"
      ]
     },
     "metadata": {
      "needs_background": "light"
     },
     "output_type": "display_data"
    }
   ],
   "source": [
    "fig = plt.subplots(figsize=(15,9))\n",
    "ax=sns.barplot(y = token_valid_df['token'][:30], x=token_valid_df['count'][:30]);\n",
    "\n",
    "for rect in ax.patches:\n",
    "    ax.text (rect.get_width()+3,rect.get_y() + rect.get_height()/2,int(rect.get_width()),horizontalalignment='center', fontsize = 10)"
   ]
  },
  {
   "cell_type": "code",
   "execution_count": 67,
   "id": "ea8c291c",
   "metadata": {},
   "outputs": [
    {
     "data": {
      "image/png": "[encoded data removed]",
      "text/plain": [
       "<Figure size 1080x648 with 1 Axes>"
      ]
     },
     "metadata": {
      "needs_background": "light"
     },
     "output_type": "display_data"
    }
   ],
   "source": [
    "fig = plt.subplots(figsize=(15,9))\n",
    "ax=sns.barplot(y = token_all_df['token'][:30], x=token_all_df['count'][:30]);\n",
    "\n",
    "for rect in ax.patches:\n",
    "    ax.text (rect.get_width()+80,rect.get_y() + rect.get_height()/2,int(rect.get_width()),horizontalalignment='center', fontsize = 10)"
   ]
  },
  {
   "cell_type": "markdown",
   "id": "73705324",
   "metadata": {},
   "source": [
    "- 전체 문서를 보는 것은 의미가 있는지는 모르겠다..! 너무 잘게 쪼개지는건가 싶음 --> Okt로? 일단 pass\n",
    "- 전체적으로 조사가 굉장히 많아서 조사 관련된 작업은 해보는것도 좋을듯 학습시킬때나 마지막에 voting할때나..\n",
    "- '무엇' '사람' '인물' '누구' 와 같은 단어가 많이 나오는걸로 봐서 '무엇인가' 또는 '인물은/사람은 누구인가' 가 많이 나올 것으로 예상됨."
   ]
  },
  {
   "cell_type": "markdown",
   "id": "ac5bc97d",
   "metadata": {},
   "source": [
    "## 2) 문장별 토크나이저 개수 분포 확인"
   ]
  },
  {
   "cell_type": "code",
   "execution_count": 83,
   "id": "bb035af9",
   "metadata": {},
   "outputs": [
    {
     "name": "stderr",
     "output_type": "stream",
     "text": [
      "100%|██████████| 8384/8384 [00:01<00:00, 7285.29it/s]\n"
     ]
    }
   ],
   "source": [
    "token_question_df = concat3_df[['question','doc_type']]\n",
    "token_question_len = []\n",
    "for i in tqdm(range(len(token_question_df))):\n",
    "    text = token_question_df['question'][i]\n",
    "    tokenized_text = tokenizer.tokenize(text)\n",
    "    token_question_len.append(len(tokenized_text))\n",
    "\n",
    "token_question_df['token_question_len'] = token_question_len"
   ]
  },
  {
   "cell_type": "code",
   "execution_count": 198,
   "id": "6460da3d",
   "metadata": {},
   "outputs": [
    {
     "name": "stdout",
     "output_type": "stream",
     "text": [
      "train data-----------------------------\n",
      "최댓값:  43.0\n",
      "최솟값:  5.0\n",
      "평균:  16.29832995951417\n",
      "\n",
      "valid data-----------------------------\n",
      "최댓값:  32.0\n",
      "최솟값:  5.0\n",
      "평균:  16.316666666666666\n",
      "\n",
      "all data(train+valid)------------------\n",
      "최댓값:  43.0\n",
      "최솟값:  5.0\n",
      "평균:  16.299379770992367\n",
      "\n",
      "\n",
      "\n"
     ]
    },
    {
     "data": {
      "image/png": "[encoded data removed]",
      "text/plain": [
       "<Figure size 1152x648 with 2 Axes>"
      ]
     },
     "metadata": {
      "needs_background": "light"
     },
     "output_type": "display_data"
    }
   ],
   "source": [
    "print('train data-----------------------------')\n",
    "print('최댓값: ',token_question_df[token_question_df['doc_type']=='train'].describe()['token_question_len']['max'])\n",
    "print('최솟값: ',token_question_df[token_question_df['doc_type']=='train'].describe()['token_question_len']['min'])\n",
    "print('평균: ',token_question_df[token_question_df['doc_type']=='train'].describe()['token_question_len']['mean'])\n",
    "print('\\nvalid data-----------------------------')\n",
    "print('최댓값: ',token_question_df[token_question_df['doc_type']=='valid'].describe()['token_question_len']['max'])\n",
    "print('최솟값: ',token_question_df[token_question_df['doc_type']=='valid'].describe()['token_question_len']['min'])\n",
    "print('평균: ',token_question_df[token_question_df['doc_type']=='valid'].describe()['token_question_len']['mean'])\n",
    "print('\\nall data(train+valid)------------------')\n",
    "print('최댓값: ',token_question_df[token_question_df['doc_type']=='all'].describe()['token_question_len']['max'])\n",
    "print('최솟값: ',token_question_df[token_question_df['doc_type']=='all'].describe()['token_question_len']['min'])\n",
    "print('평균: ',token_question_df[token_question_df['doc_type']=='all'].describe()['token_question_len']['mean'])\n",
    "print('\\n\\n')\n",
    "                               \n",
    "fig, ax = plt.subplots(figsize=(16,9),nrows=2)\n",
    "ax=sns.boxplot(data=token_question_df, x='token_question_len',y=\"doc_type\",\n",
    "            showmeans=True,\n",
    "            meanprops={\"marker\":\"o\",\n",
    "                       \"markerfacecolor\":\"white\", \n",
    "                       \"markeredgecolor\":\"black\",\n",
    "                      \"markersize\":\"5\"},\n",
    "            palette='Set2',\n",
    "            ax=ax[0])\n",
    "\n",
    "ax.set(xlabel=None) # 위에 있는 plot xlabel 삭제\n",
    "\n",
    "ax=sns.violinplot(data=token_question_df, x='token_question_len',y=\"doc_type\",palette='Set2');\n",
    "plt.show()\n"
   ]
  },
  {
   "cell_type": "markdown",
   "id": "1e5e83db",
   "metadata": {},
   "source": [
    "# 5. Query문 살펴보기"
   ]
  },
  {
   "cell_type": "code",
   "execution_count": 97,
   "id": "8a4cb7fd",
   "metadata": {},
   "outputs": [
    {
     "name": "stderr",
     "output_type": "stream",
     "text": [
      "100%|██████████| 3952/3952 [00:00<00:00, 132765.37it/s]\n"
     ]
    }
   ],
   "source": [
    "query_train_dict = {}\n",
    "for i in tqdm(range(len(train_df))):\n",
    "    text = train_df['question'][i]\n",
    "    split_text = text.split()[-1]\n",
    "    try:\n",
    "        query_train_dict[split_text]+=1\n",
    "    except:\n",
    "        query_train_dict[split_text] = 1\n",
    "            \n",
    "query_train_df = pd.DataFrame(list(query_train_dict.items()), columns=['query','count'])\n",
    "query_train_df = query_train_df.sort_values('count',ascending=False)\n",
    "query_train_df = query_train_df.reset_index(drop=True)"
   ]
  },
  {
   "cell_type": "code",
   "execution_count": 99,
   "id": "9629f8fb",
   "metadata": {},
   "outputs": [
    {
     "name": "stderr",
     "output_type": "stream",
     "text": [
      "100%|██████████| 240/240 [00:00<00:00, 114117.78it/s]\n"
     ]
    }
   ],
   "source": [
    "query_valid_dict = {}\n",
    "for i in tqdm(range(len(valid_df))):\n",
    "    text = valid_df['question'][i]\n",
    "    split_text = text.split()[-1]\n",
    "    try:\n",
    "        query_valid_dict[split_text]+=1\n",
    "    except:\n",
    "        query_valid_dict[split_text] = 1\n",
    "            \n",
    "query_valid_df = pd.DataFrame(list(query_valid_dict.items()), columns=['query','count'])\n",
    "query_valid_df = query_valid_df.sort_values('count',ascending=False)\n",
    "query_valid_df = query_valid_df.reset_index(drop=True)"
   ]
  },
  {
   "cell_type": "code",
   "execution_count": 100,
   "id": "0ac18c81",
   "metadata": {},
   "outputs": [
    {
     "name": "stderr",
     "output_type": "stream",
     "text": [
      "100%|██████████| 4192/4192 [00:00<00:00, 134740.23it/s]\n"
     ]
    }
   ],
   "source": [
    "query_all_dict = {}\n",
    "for i in tqdm(range(len(all_df))):\n",
    "    text = all_df['question'][i]\n",
    "    split_text = text.split()[-1]\n",
    "    try:\n",
    "        query_all_dict[split_text]+=1\n",
    "    except:\n",
    "        query_all_dict[split_text] = 1\n",
    "            \n",
    "query_all_df = pd.DataFrame(list(query_all_dict.items()), columns=['query','count'])\n",
    "query_all_df = query_all_df.sort_values('count',ascending=False)\n",
    "query_all_df = query_all_df.reset_index(drop=True)"
   ]
  },
  {
   "cell_type": "code",
   "execution_count": 103,
   "id": "0a6e4793",
   "metadata": {},
   "outputs": [
    {
     "data": {
      "text/html": [
       "<div>\n",
       "<style scoped>\n",
       "    .dataframe tbody tr th:only-of-type {\n",
       "        vertical-align: middle;\n",
       "    }\n",
       "\n",
       "    .dataframe tbody tr th {\n",
       "        vertical-align: top;\n",
       "    }\n",
       "\n",
       "    .dataframe thead th {\n",
       "        text-align: right;\n",
       "    }\n",
       "</style>\n",
       "<table border=\"1\" class=\"dataframe\">\n",
       "  <thead>\n",
       "    <tr style=\"text-align: right;\">\n",
       "      <th></th>\n",
       "      <th>query</th>\n",
       "      <th>count</th>\n",
       "    </tr>\n",
       "  </thead>\n",
       "  <tbody>\n",
       "    <tr>\n",
       "      <th>0</th>\n",
       "      <td>사람은?</td>\n",
       "      <td>233</td>\n",
       "    </tr>\n",
       "    <tr>\n",
       "      <th>1</th>\n",
       "      <td>인물은?</td>\n",
       "      <td>216</td>\n",
       "    </tr>\n",
       "    <tr>\n",
       "      <th>2</th>\n",
       "      <td>것은?</td>\n",
       "      <td>205</td>\n",
       "    </tr>\n",
       "    <tr>\n",
       "      <th>3</th>\n",
       "      <td>무엇인가?</td>\n",
       "      <td>136</td>\n",
       "    </tr>\n",
       "    <tr>\n",
       "      <th>4</th>\n",
       "      <td>누구인가?</td>\n",
       "      <td>134</td>\n",
       "    </tr>\n",
       "    <tr>\n",
       "      <th>...</th>\n",
       "      <td>...</td>\n",
       "      <td>...</td>\n",
       "    </tr>\n",
       "    <tr>\n",
       "      <th>1229</th>\n",
       "      <td>담았나?</td>\n",
       "      <td>1</td>\n",
       "    </tr>\n",
       "    <tr>\n",
       "      <th>1230</th>\n",
       "      <td>표현되었나?</td>\n",
       "      <td>1</td>\n",
       "    </tr>\n",
       "    <tr>\n",
       "      <th>1231</th>\n",
       "      <td>결정자는?</td>\n",
       "      <td>1</td>\n",
       "    </tr>\n",
       "    <tr>\n",
       "      <th>1232</th>\n",
       "      <td>회담은?</td>\n",
       "      <td>1</td>\n",
       "    </tr>\n",
       "    <tr>\n",
       "      <th>1233</th>\n",
       "      <td>적용해보았나요?</td>\n",
       "      <td>1</td>\n",
       "    </tr>\n",
       "  </tbody>\n",
       "</table>\n",
       "<p>1234 rows × 2 columns</p>\n",
       "</div>"
      ],
      "text/plain": [
       "         query  count\n",
       "0         사람은?    233\n",
       "1         인물은?    216\n",
       "2          것은?    205\n",
       "3        무엇인가?    136\n",
       "4        누구인가?    134\n",
       "...        ...    ...\n",
       "1229      담았나?      1\n",
       "1230    표현되었나?      1\n",
       "1231     결정자는?      1\n",
       "1232      회담은?      1\n",
       "1233  적용해보았나요?      1\n",
       "\n",
       "[1234 rows x 2 columns]"
      ]
     },
     "execution_count": 103,
     "metadata": {},
     "output_type": "execute_result"
    }
   ],
   "source": [
    "query_all_df"
   ]
  },
  {
   "cell_type": "code",
   "execution_count": 238,
   "id": "8725ab6b",
   "metadata": {},
   "outputs": [],
   "source": [
    "def make_query_group(list_name,i,list_str):\n",
    "    if check_query in list_name:\n",
    "        query_check.remove(check_query)\n",
    "        try:\n",
    "            query_set[list_str] += query_all_df['count'][i]\n",
    "        except:\n",
    "            query_set[list_str] = query_all_df['count'][i]\n",
    "            \n",
    "query_set = {}\n",
    "query_check = list(query_all_df['query']) # list로 해야지 순서가 안바뀜..\n",
    "person = ['사람은?','인물은?','누구인가?','이름은?','누구인가요?','선수는?','자는?','누구였나?','누구였나요?','누구였는가?','상대는?','명칭은?']\n",
    "place = ['곳은?','어디인가?','장소는?','국가는?','나라는?','도시는?','지역은?','어디인가요?']\n",
    "date = ['해는?','시기는?','언제인가?','연도는?','년도는?','날짜는?','날은?','언제인가요?','기간은?','년인가?','몇년도인가?','년도인가?','년도였나요?','때는?']\n",
    "what = ['것은?','무엇인가?','무엇인가요?','무엇이었나요?']\n",
    "group = ['기관은?','집단은?','단체는?','팀은']\n",
    "why = ['이유는?','때문인가?']\n",
    "\n",
    "\n",
    "for i in range(len(query_all_df)):\n",
    "    check_query = query_all_df['query'][i]\n",
    "    make_query_group(person,i,'person')\n",
    "    make_query_group(place,i,'place')\n",
    "    make_query_group(date,i,'date')\n",
    "    make_query_group(what,i,'what')\n",
    "    make_query_group(group,i,'group')\n",
    "    make_query_group(why,i,'why')\n",
    "            \n",
    "        \n",
    "\n",
    "query_group_df = pd.DataFrame(list(query_set.items()), columns=['query_group','count'])"
   ]
  },
  {
   "cell_type": "code",
   "execution_count": 239,
   "id": "85b834d3",
   "metadata": {},
   "outputs": [
    {
     "data": {
      "image/png": "[encoded data removed]",
      "text/plain": [
       "<Figure size 720x504 with 1 Axes>"
      ]
     },
     "metadata": {
      "needs_background": "light"
     },
     "output_type": "display_data"
    }
   ],
   "source": [
    "fig = plt.subplots(figsize=(10,7))\n",
    "ax = sns.barplot(x=query_group_df['query_group'],y=query_group_df['count'],palette = 'Set2');\n",
    "for rect in ax.patches:\n",
    "    ax.text (rect.get_x() + rect.get_width()  / 2,rect.get_height()+ 8,int(rect.get_height()),horizontalalignment='center', fontsize = 13)"
   ]
  },
  {
   "cell_type": "markdown",
   "id": "dea6cf55",
   "metadata": {},
   "source": [
    "query_check"
   ]
  },
  {
   "cell_type": "code",
   "execution_count": null,
   "id": "180b12a9",
   "metadata": {},
   "outputs": [],
   "source": []
  }
 ],
 "metadata": {
  "kernelspec": {
   "display_name": "Python 3 (ipykernel)",
   "language": "python",
   "name": "python3"
  },
  "language_info": {
   "codemirror_mode": {
    "name": "ipython",
    "version": 3
   },
   "file_extension": ".py",
   "mimetype": "text/x-python",
   "name": "python",
   "nbconvert_exporter": "python",
   "pygments_lexer": "ipython3",
   "version": "3.8.5"
  }
 },
 "nbformat": 4,
 "nbformat_minor": 5
}
