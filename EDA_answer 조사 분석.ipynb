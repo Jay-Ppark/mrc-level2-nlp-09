{
 "cells": [
  {
   "cell_type": "code",
   "execution_count": 9,
   "id": "31fa5ebf",
   "metadata": {},
   "outputs": [],
   "source": [
    "from datasets import load_from_disk, load_dataset\n",
    "import pandas as pd\n",
    "from tqdm import tqdm"
   ]
  },
  {
   "cell_type": "code",
   "execution_count": 2,
   "id": "f1c1a06f",
   "metadata": {},
   "outputs": [],
   "source": [
    "mrc_datasets = load_from_disk('./data/train_dataset/')\n",
    "mrc_train_dataset = mrc_datasets['train']\n",
    "mrc_valid_dataset = mrc_datasets['validation']"
   ]
  },
  {
   "cell_type": "code",
   "execution_count": 3,
   "id": "ed900805",
   "metadata": {},
   "outputs": [],
   "source": [
    "# train data\n",
    "_id = []  # 중복 확인용\n",
    "doc_id = []\n",
    "title = []\n",
    "context = []\n",
    "question = []\n",
    "answer = []\n",
    "answer_start = []\n",
    "answer_len = []\n",
    "question_len = []\n",
    "context_len = []\n",
    "\n",
    "for train_data in mrc_train_dataset:\n",
    "    _id.append(train_data['id'])\n",
    "    doc_id.append(train_data['document_id'])\n",
    "    title.append(train_data['title'])\n",
    "    context.append(train_data['context'])\n",
    "    question.append(train_data['question'])\n",
    "    answer.append(train_data['answers']['text'][0])\n",
    "    context_len.append(len(train_data['context']))\n",
    "    question_len.append(len(train_data['question']))\n",
    "    #answer_len.append(answer_len_f(train_data['answers']['text']))\n",
    "    answer_len.append(len(train_data['answers']['text'][0]))\n",
    "    answer_start.append(train_data['answers']['answer_start'][0])\n",
    "    \n",
    "train_dict = {\n",
    "    \"id\":_id,\n",
    "    \"doc_id\":doc_id,\n",
    "    \"title\":title,\n",
    "    \"context\":context,\n",
    "    \"question\":question,\n",
    "    \"answer\":answer,\n",
    "    \"context_len\":context_len,\n",
    "    \"question_len\":question_len,\n",
    "    \"answer_len\":answer_len,\n",
    "    \"answer_start\":answer_start,\n",
    "}\n",
    "\n",
    "train_df = pd.DataFrame(train_dict)\n",
    "\n",
    "# valid data\n",
    "_id = []  # 중복 확인용\n",
    "doc_id = []\n",
    "title = []\n",
    "context = []\n",
    "question = []\n",
    "answer = []\n",
    "answer_start = []\n",
    "answer_len = []\n",
    "question_len = []\n",
    "context_len = []\n",
    "\n",
    "for valid_data in mrc_valid_dataset:\n",
    "    _id.append(valid_data['id'])\n",
    "    doc_id.append(valid_data['document_id'])\n",
    "    title.append(valid_data['title'])\n",
    "    context.append(valid_data['context'])\n",
    "    question.append(valid_data['question'])\n",
    "    answer.append(valid_data['answers']['text'][0])\n",
    "    context_len.append(len(valid_data['context']))\n",
    "    question_len.append(len(valid_data['question']))\n",
    "    #answer_len.append(answer_len_f(valid_data['answers']['text']))\n",
    "    answer_len.append(len(valid_data['answers']['text'][0]))\n",
    "    answer_start.append(valid_data['answers']['answer_start'][0])\n",
    "    \n",
    "valid_dict = {\n",
    "    \"id\":_id,\n",
    "    \"doc_id\":doc_id,\n",
    "    \"title\":title,\n",
    "    \"context\":context,\n",
    "    \"question\":question,\n",
    "    \"answer\":answer,\n",
    "    \"context_len\":context_len,\n",
    "    \"question_len\":question_len,\n",
    "    \"answer_len\":answer_len,\n",
    "    \"answer_start\":answer_start,\n",
    "}\n",
    "\n",
    "valid_df = pd.DataFrame(valid_dict)"
   ]
  },
  {
   "cell_type": "code",
   "execution_count": 4,
   "id": "bdad2a02",
   "metadata": {},
   "outputs": [
    {
     "data": {
      "text/html": [
       "<div>\n",
       "<style scoped>\n",
       "    .dataframe tbody tr th:only-of-type {\n",
       "        vertical-align: middle;\n",
       "    }\n",
       "\n",
       "    .dataframe tbody tr th {\n",
       "        vertical-align: top;\n",
       "    }\n",
       "\n",
       "    .dataframe thead th {\n",
       "        text-align: right;\n",
       "    }\n",
       "</style>\n",
       "<table border=\"1\" class=\"dataframe\">\n",
       "  <thead>\n",
       "    <tr style=\"text-align: right;\">\n",
       "      <th></th>\n",
       "      <th>id</th>\n",
       "      <th>doc_id</th>\n",
       "      <th>title</th>\n",
       "      <th>context</th>\n",
       "      <th>question</th>\n",
       "      <th>answer</th>\n",
       "      <th>context_len</th>\n",
       "      <th>question_len</th>\n",
       "      <th>answer_len</th>\n",
       "      <th>answer_start</th>\n",
       "    </tr>\n",
       "  </thead>\n",
       "  <tbody>\n",
       "    <tr>\n",
       "      <th>0</th>\n",
       "      <td>mrc-1-000067</td>\n",
       "      <td>18293</td>\n",
       "      <td>미국 상원</td>\n",
       "      <td>미국 상의원 또는 미국 상원(United States Senate)은 양원제인 미국...</td>\n",
       "      <td>대통령을 포함한 미국의 행정부 견제권을 갖는 국가 기관은?</td>\n",
       "      <td>하원</td>\n",
       "      <td>862</td>\n",
       "      <td>32</td>\n",
       "      <td>2</td>\n",
       "      <td>235</td>\n",
       "    </tr>\n",
       "    <tr>\n",
       "      <th>1</th>\n",
       "      <td>mrc-0-004397</td>\n",
       "      <td>51638</td>\n",
       "      <td>인사조직관리</td>\n",
       "      <td>'근대적 경영학' 또는 '고전적 경영학'에서 현대적 경영학으로 전환되는 시기는 19...</td>\n",
       "      <td>현대적 인사조직관리의 시발점이 된 책은?</td>\n",
       "      <td>《경영의 실제》</td>\n",
       "      <td>621</td>\n",
       "      <td>22</td>\n",
       "      <td>8</td>\n",
       "      <td>212</td>\n",
       "    </tr>\n",
       "    <tr>\n",
       "      <th>2</th>\n",
       "      <td>mrc-1-000362</td>\n",
       "      <td>5028</td>\n",
       "      <td>강희제</td>\n",
       "      <td>강희제는 강화된 황권으로 거의 황제 중심의 독단적으로 나라를 이끌어 갔기에 자칫 전...</td>\n",
       "      <td>강희제가 1717년에 쓴 글은 누구를 위해 쓰여졌는가?</td>\n",
       "      <td>백성</td>\n",
       "      <td>850</td>\n",
       "      <td>30</td>\n",
       "      <td>2</td>\n",
       "      <td>510</td>\n",
       "    </tr>\n",
       "  </tbody>\n",
       "</table>\n",
       "</div>"
      ],
      "text/plain": [
       "             id  doc_id   title  \\\n",
       "0  mrc-1-000067   18293   미국 상원   \n",
       "1  mrc-0-004397   51638  인사조직관리   \n",
       "2  mrc-1-000362    5028     강희제   \n",
       "\n",
       "                                             context  \\\n",
       "0  미국 상의원 또는 미국 상원(United States Senate)은 양원제인 미국...   \n",
       "1  '근대적 경영학' 또는 '고전적 경영학'에서 현대적 경영학으로 전환되는 시기는 19...   \n",
       "2  강희제는 강화된 황권으로 거의 황제 중심의 독단적으로 나라를 이끌어 갔기에 자칫 전...   \n",
       "\n",
       "                           question    answer  context_len  question_len  \\\n",
       "0  대통령을 포함한 미국의 행정부 견제권을 갖는 국가 기관은?        하원          862            32   \n",
       "1            현대적 인사조직관리의 시발점이 된 책은?  《경영의 실제》          621            22   \n",
       "2    강희제가 1717년에 쓴 글은 누구를 위해 쓰여졌는가?        백성          850            30   \n",
       "\n",
       "   answer_len  answer_start  \n",
       "0           2           235  \n",
       "1           8           212  \n",
       "2           2           510  "
      ]
     },
     "execution_count": 4,
     "metadata": {},
     "output_type": "execute_result"
    }
   ],
   "source": [
    "all_df = pd.concat([train_df,valid_df], ignore_index=True)\n",
    "all_df.head(3)"
   ]
  },
  {
   "cell_type": "markdown",
   "id": "45126ec6",
   "metadata": {},
   "source": [
    "# 정답의 조사를 분석해보자!"
   ]
  },
  {
   "cell_type": "markdown",
   "id": "05e035fa",
   "metadata": {},
   "source": [
    "## 정답 df 생성"
   ]
  },
  {
   "cell_type": "code",
   "execution_count": 17,
   "id": "8b33b7ea",
   "metadata": {},
   "outputs": [
    {
     "data": {
      "text/plain": [
       "0                  하원\n",
       "1            《경영의 실제》\n",
       "2                  백성\n",
       "3                  중국\n",
       "4                  4개\n",
       "            ...      \n",
       "4187             제 양왕\n",
       "4188    '일곱 개의 신전 광장'\n",
       "4189           미나미 지로\n",
       "4190         200,000명\n",
       "4191             공산주의\n",
       "Name: answer, Length: 4192, dtype: object"
      ]
     },
     "execution_count": 17,
     "metadata": {},
     "output_type": "execute_result"
    }
   ],
   "source": [
    "# 정답 df 생성\n",
    "all_ans_df = all_df['answer']\n",
    "all_ans_df"
   ]
  },
  {
   "cell_type": "code",
   "execution_count": 25,
   "id": "c9787eb9",
   "metadata": {},
   "outputs": [],
   "source": [
    "## konlpy\n",
    "## tweepy를 3.10.0으로 깔아야 합니다.\n",
    "from konlpy.tag import *\n",
    "okt=Okt()"
   ]
  },
  {
   "cell_type": "code",
   "execution_count": 42,
   "id": "7d192de6",
   "metadata": {},
   "outputs": [
    {
     "name": "stderr",
     "output_type": "stream",
     "text": [
      "100%|██████████| 4192/4192 [00:01<00:00, 2592.44it/s]\n"
     ]
    }
   ],
   "source": [
    "pos_cnt = {}\n",
    "pos_list = {}\n",
    "origin_list = {}\n",
    "pos_se_cnt = {} # 맨앞, 맨뒤\n",
    "for i in tqdm(range(len(all_ans_df))):\n",
    "    pos = okt.pos(all_ans_df[i])\n",
    "    # 전체 개수 추가\n",
    "    for p in pos:\n",
    "        try:\n",
    "            pos_cnt[p[1]] += 1\n",
    "            pos_list[p[1]].append(p[0])\n",
    "            origin_list[p[1]].append(all_ans_df[i])\n",
    "        except:\n",
    "            pos_cnt[p[1]] = 1\n",
    "            pos_list[p[1]] = [p[0]]\n",
    "            origin_list[p[1]] = [all_ans_df[i]]\n",
    "    \n",
    "    # 맨 앞, 맨 뒤 추가\n",
    "    try:\n",
    "        pos_se_cnt[pos[0][1]]+=1\n",
    "    except:\n",
    "        pos_se_cnt[pos[0][1]]=1\n",
    "    if len(pos)>=2:\n",
    "        try:\n",
    "            pos_se_cnt[pos[-1][1]]+=1\n",
    "        except:\n",
    "            pos_se_cnt[pos[-1][1]]=1"
   ]
  },
  {
   "cell_type": "code",
   "execution_count": 37,
   "id": "af9cfc2c",
   "metadata": {},
   "outputs": [
    {
     "data": {
      "text/plain": [
       "{'Noun': 7198,\n",
       " 'Foreign': 257,\n",
       " 'Josa': 757,\n",
       " 'Number': 857,\n",
       " 'Suffix': 232,\n",
       " 'Verb': 304,\n",
       " 'Modifier': 218,\n",
       " 'Punctuation': 527,\n",
       " 'Alpha': 177,\n",
       " 'Adverb': 30,\n",
       " 'Adjective': 116,\n",
       " 'Determiner': 41,\n",
       " 'VerbPrefix': 5,\n",
       " 'Exclamation': 17,\n",
       " 'KoreanParticle': 1,\n",
       " 'Conjunction': 2,\n",
       " 'Eomi': 3}"
      ]
     },
     "execution_count": 37,
     "metadata": {},
     "output_type": "execute_result"
    }
   ],
   "source": [
    "pos_cnt"
   ]
  },
  {
   "cell_type": "code",
   "execution_count": 49,
   "id": "98394b41",
   "metadata": {},
   "outputs": [
    {
     "data": {
      "text/plain": [
       "['엇', '안', '잘', '못', '못']"
      ]
     },
     "execution_count": 49,
     "metadata": {},
     "output_type": "execute_result"
    }
   ],
   "source": [
    "pos_list['VerbPrefix']"
   ]
  },
  {
   "cell_type": "code",
   "execution_count": 50,
   "id": "3428d75e",
   "metadata": {},
   "outputs": [
    {
     "data": {
      "text/plain": [
       "['엇박자 맥박이 나오는 부위',\n",
       " '안채',\n",
       " '헤르만 폰 잘차',\n",
       " '샤 자한이 이 무덤을 지을 때 자신이 그녀의 옆에 묻힐 것을 예상하지 못하였기 때문',\n",
       " '임신하지 못하는 많은 사람들']"
      ]
     },
     "execution_count": 50,
     "metadata": {},
     "output_type": "execute_result"
    }
   ],
   "source": [
    "origin_list['VerbPrefix']"
   ]
  },
  {
   "cell_type": "code",
   "execution_count": 39,
   "id": "9e50c857",
   "metadata": {},
   "outputs": [
    {
     "data": {
      "text/plain": [
       "{'Noun': 5016,\n",
       " 'Foreign': 177,\n",
       " 'Number': 677,\n",
       " 'Suffix': 93,\n",
       " 'Modifier': 100,\n",
       " 'Punctuation': 288,\n",
       " 'Alpha': 64,\n",
       " 'Adverb': 10,\n",
       " 'Josa': 78,\n",
       " 'Verb': 87,\n",
       " 'Adjective': 40,\n",
       " 'VerbPrefix': 2,\n",
       " 'Determiner': 15,\n",
       " 'Exclamation': 7,\n",
       " 'KoreanParticle': 1,\n",
       " 'Eomi': 2}"
      ]
     },
     "execution_count": 39,
     "metadata": {},
     "output_type": "execute_result"
    }
   ],
   "source": [
    "pos_se_cnt"
   ]
  },
  {
   "cell_type": "code",
   "execution_count": null,
   "id": "bd3f0f35",
   "metadata": {},
   "outputs": [],
   "source": []
  }
 ],
 "metadata": {
  "kernelspec": {
   "display_name": "Python 3 (ipykernel)",
   "language": "python",
   "name": "python3"
  },
  "language_info": {
   "codemirror_mode": {
    "name": "ipython",
    "version": 3
   },
   "file_extension": ".py",
   "mimetype": "text/x-python",
   "name": "python",
   "nbconvert_exporter": "python",
   "pygments_lexer": "ipython3",
   "version": "3.8.5"
  }
 },
 "nbformat": 4,
 "nbformat_minor": 5
}
