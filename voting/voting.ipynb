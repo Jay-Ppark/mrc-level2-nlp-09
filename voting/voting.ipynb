{
 "cells": [
  {
   "cell_type": "code",
   "execution_count": 1,
   "metadata": {},
   "outputs": [
    {
     "data": {
      "text/plain": [
       "[('안녕', 'NNG'), ('하', 'XSV'), ('세요', 'EP+EF')]"
      ]
     },
     "execution_count": 1,
     "metadata": {},
     "output_type": "execute_result"
    }
   ],
   "source": [
    "from konlpy.tag import Mecab\n",
    "m = Mecab()\n",
    "m.pos(\"안녕하세요\")"
   ]
  },
  {
   "cell_type": "code",
   "execution_count": 2,
   "metadata": {},
   "outputs": [
    {
     "data": {
      "text/plain": [
       "['테스트', '하', '는', '중', '입니다', '!', '!']"
      ]
     },
     "execution_count": 2,
     "metadata": {},
     "output_type": "execute_result"
    }
   ],
   "source": [
    "from konlpy.tag import Mecab \n",
    "tokenizer = Mecab() \n",
    "tokenizer.morphs(\"테스트 하는 중입니다!!\")"
   ]
  },
  {
   "cell_type": "code",
   "execution_count": 4,
   "metadata": {},
   "outputs": [],
   "source": [
    "import pandas as pd\n",
    "\n",
    "file_names = [\"1.json\", \"2.json\"]\n",
    "files = []\n",
    "\n",
    "for f in file_names:\n",
    "    files.append(pd.read_json(f, orient='index'))"
   ]
  },
  {
   "cell_type": "code",
   "execution_count": 5,
   "metadata": {},
   "outputs": [
    {
     "data": {
      "text/html": [
       "<div>\n",
       "<style scoped>\n",
       "    .dataframe tbody tr th:only-of-type {\n",
       "        vertical-align: middle;\n",
       "    }\n",
       "\n",
       "    .dataframe tbody tr th {\n",
       "        vertical-align: top;\n",
       "    }\n",
       "\n",
       "    .dataframe thead th {\n",
       "        text-align: right;\n",
       "    }\n",
       "</style>\n",
       "<table border=\"1\" class=\"dataframe\">\n",
       "  <thead>\n",
       "    <tr style=\"text-align: right;\">\n",
       "      <th></th>\n",
       "      <th>0</th>\n",
       "    </tr>\n",
       "  </thead>\n",
       "  <tbody>\n",
       "    <tr>\n",
       "      <th>mrc-1-000653</th>\n",
       "      <td>40억년전 지구</td>\n",
       "    </tr>\n",
       "    <tr>\n",
       "      <th>mrc-1-001113</th>\n",
       "      <td>냉전</td>\n",
       "    </tr>\n",
       "    <tr>\n",
       "      <th>mrc-0-002191</th>\n",
       "      <td>대통령인 빌헬름 미클라스</td>\n",
       "    </tr>\n",
       "    <tr>\n",
       "      <th>mrc-0-003951</th>\n",
       "      <td>뉴질랜드</td>\n",
       "    </tr>\n",
       "    <tr>\n",
       "      <th>mrc-1-001272</th>\n",
       "      <td>프랑스</td>\n",
       "    </tr>\n",
       "    <tr>\n",
       "      <th>...</th>\n",
       "      <td>...</td>\n",
       "    </tr>\n",
       "    <tr>\n",
       "      <th>mrc-0-002989</th>\n",
       "      <td>재단 X</td>\n",
       "    </tr>\n",
       "    <tr>\n",
       "      <th>mrc-0-001804</th>\n",
       "      <td>자유당계 인사들</td>\n",
       "    </tr>\n",
       "    <tr>\n",
       "      <th>mrc-0-003411</th>\n",
       "      <td>서스펜디드 게임</td>\n",
       "    </tr>\n",
       "    <tr>\n",
       "      <th>mrc-0-003436</th>\n",
       "      <td>디에프 항</td>\n",
       "    </tr>\n",
       "    <tr>\n",
       "      <th>mrc-0-002605</th>\n",
       "      <td>수수께끼의 콘드률</td>\n",
       "    </tr>\n",
       "  </tbody>\n",
       "</table>\n",
       "<p>600 rows × 1 columns</p>\n",
       "</div>"
      ],
      "text/plain": [
       "                          0\n",
       "mrc-1-000653       40억년전 지구\n",
       "mrc-1-001113             냉전\n",
       "mrc-0-002191  대통령인 빌헬름 미클라스\n",
       "mrc-0-003951           뉴질랜드\n",
       "mrc-1-001272            프랑스\n",
       "...                     ...\n",
       "mrc-0-002989           재단 X\n",
       "mrc-0-001804       자유당계 인사들\n",
       "mrc-0-003411       서스펜디드 게임\n",
       "mrc-0-003436          디에프 항\n",
       "mrc-0-002605      수수께끼의 콘드률\n",
       "\n",
       "[600 rows x 1 columns]"
      ]
     },
     "execution_count": 5,
     "metadata": {},
     "output_type": "execute_result"
    }
   ],
   "source": [
    "\n",
    "\n",
    "files[0]"
   ]
  }
 ],
 "metadata": {
  "interpreter": {
   "hash": "a131218803ea04de256dcf68d0863f351f9c21059ac7f8146793fa89223f504a"
  },
  "kernelspec": {
   "display_name": "Python 3.8.11 64-bit ('torch': conda)",
   "name": "python3"
  },
  "language_info": {
   "codemirror_mode": {
    "name": "ipython",
    "version": 3
   },
   "file_extension": ".py",
   "mimetype": "text/x-python",
   "name": "python",
   "nbconvert_exporter": "python",
   "pygments_lexer": "ipython3",
   "version": "3.8.11"
  },
  "orig_nbformat": 4
 },
 "nbformat": 4,
 "nbformat_minor": 2
}
